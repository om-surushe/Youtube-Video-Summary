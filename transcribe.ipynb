{
 "cells": [
  {
   "cell_type": "code",
   "execution_count": 1,
   "metadata": {},
   "outputs": [
    {
     "name": "stderr",
     "output_type": "stream",
     "text": [
      "/home/om/Documents/SculptSmithAPI/sculp-api/lib/python3.8/site-packages/tqdm/auto.py:22: TqdmWarning: IProgress not found. Please update jupyter and ipywidgets. See https://ipywidgets.readthedocs.io/en/stable/user_install.html\n",
      "  from .autonotebook import tqdm as notebook_tqdm\n"
     ]
    }
   ],
   "source": [
    "from __future__ import unicode_literals\n",
    "import speech_recognition as sr\n",
    "import yt_dlp\n",
    "import ffmpeg\n",
    "import sys\n",
    "from transformers import AutoTokenizer, AutoModelForSeq2SeqLM\n",
    "from transformers import pipeline\n"
   ]
  },
  {
   "cell_type": "code",
   "execution_count": 10,
   "metadata": {},
   "outputs": [],
   "source": [
    "video_url = input(\"Enter the video link: \")\n",
    "file_name = \"output\""
   ]
  },
  {
   "cell_type": "code",
   "execution_count": 11,
   "metadata": {},
   "outputs": [],
   "source": [
    "def download_from_url(url: str, output_file: str):\n",
    "    ydl_opts = {\n",
    "        'format': 'bestaudio/best',\n",
    "        'outtmpl': output_file,\n",
    "        'postprocessors': [{\n",
    "            'key': 'FFmpegExtractAudio',\n",
    "            'preferredcodec': 'wav',\n",
    "        }],\n",
    "    }\n",
    "\n",
    "    with yt_dlp.YoutubeDL(ydl_opts) as ydl:\n",
    "        ydl.download([url])\n",
    "        stream = ffmpeg.input(output_file)\n",
    "        stream = ffmpeg.output(stream, output_file.replace('.m4a', '.wav'))"
   ]
  },
  {
   "cell_type": "code",
   "execution_count": 12,
   "metadata": {},
   "outputs": [
    {
     "name": "stdout",
     "output_type": "stream",
     "text": [
      "[youtube] Extracting URL: https://www.youtube.com/watch?v=vdIRqXd7K3k\n",
      "[youtube] vdIRqXd7K3k: Downloading webpage\n",
      "[youtube] vdIRqXd7K3k: Downloading android player API JSON\n",
      "[info] vdIRqXd7K3k: Downloading 1 format(s): 251\n",
      "[download] Destination: output\n",
      "[download] 100% of    3.73MiB in 00:02:22 at 26.90KiB/s  \n",
      "[ExtractAudio] Destination: output.wav\n",
      "Deleting original file output (pass -k to keep)\n"
     ]
    }
   ],
   "source": [
    "download_from_url(video_url, file_name)\n"
   ]
  },
  {
   "cell_type": "code",
   "execution_count": 13,
   "metadata": {},
   "outputs": [],
   "source": [
    "r = sr.Recognizer()"
   ]
  },
  {
   "cell_type": "code",
   "execution_count": 14,
   "metadata": {},
   "outputs": [],
   "source": [
    "video = sr.AudioFile(file_name + \".wav\")"
   ]
  },
  {
   "cell_type": "code",
   "execution_count": 15,
   "metadata": {},
   "outputs": [],
   "source": [
    "with video as source:\n",
    "    audio = r.record(source)"
   ]
  },
  {
   "cell_type": "code",
   "execution_count": 16,
   "metadata": {},
   "outputs": [],
   "source": [
    "result = r.recognize_whisper(audio)"
   ]
  },
  {
   "cell_type": "code",
   "execution_count": 17,
   "metadata": {},
   "outputs": [],
   "source": [
    "with open('transcript.txt', 'w') as f:\n",
    "    f.write(result)"
   ]
  },
  {
   "cell_type": "code",
   "execution_count": 18,
   "metadata": {},
   "outputs": [],
   "source": [
    "with open('transcript.txt', 'r') as f:\n",
    "    text = f.read()"
   ]
  },
  {
   "cell_type": "code",
   "execution_count": 19,
   "metadata": {},
   "outputs": [],
   "source": [
    "tokenizer = AutoTokenizer.from_pretrained(\"philschmid/bart-large-cnn-samsum\",model_max_length=1024)\n",
    "\n",
    "model = AutoModelForSeq2SeqLM.from_pretrained(\n",
    "    \"philschmid/bart-large-cnn-samsum\")\n"
   ]
  },
  {
   "cell_type": "code",
   "execution_count": 20,
   "metadata": {},
   "outputs": [
    {
     "name": "stderr",
     "output_type": "stream",
     "text": [
      "Your max_length is set to 150, but you input_length is only 128. You might consider decreasing max_length manually, e.g. summarizer('...', max_length=64)\n"
     ]
    }
   ],
   "source": [
    "summarizer = pipeline(\n",
    "    \"summarization\", model=model, tokenizer=tokenizer, framework=\"pt\")\n",
    "\n",
    "\n",
    "# break the text into chunks of 1024 characters\n",
    "chunks = [text[i:i+1024] for i in range(0, len(text), 1024)]\n",
    "\n",
    "# summarize the chunks\n",
    "summary = []\n",
    "for chunk in chunks:\n",
    "    summary.append(summarizer(chunk, max_length=150, min_length=30, do_sample=False)[0]['summary_text'])\n",
    "\n",
    "# join the chunks\n",
    "summary = ''.join(summary)\n",
    "\n",
    "# save the summary to a text file\n",
    "with open('summary.txt', 'w') as f:\n",
    "    f.write(summary)"
   ]
  },
  {
   "cell_type": "code",
   "execution_count": 21,
   "metadata": {},
   "outputs": [
    {
     "ename": "",
     "evalue": "",
     "output_type": "error",
     "traceback": [
      "\u001b[1;31mThe Kernel crashed while executing code in the the current cell or a previous cell. Please review the code in the cell(s) to identify a possible cause of the failure. Click <a href='https://aka.ms/vscodeJupyterKernelCrash'>here</a> for more info. View Jupyter <a href='command:jupyter.viewOutput'>log</a> for further details."
     ]
    }
   ],
   "source": [
    "# convert the summary to audio and save it\n",
    "from gtts import gTTS\n",
    "\n",
    "tts = gTTS(summary)\n",
    "\n",
    "tts.save(\"summary.mp3\")"
   ]
  },
  {
   "attachments": {},
   "cell_type": "markdown",
   "metadata": {},
   "source": [
    "Next Step : https://colab.research.google.com/drive/1wVVqUPqwiDBUVeWWOUNglpGhU3hg_cbR?usp=sharing#scrollTo=JrK20I32grP6"
   ]
  }
 ],
 "metadata": {
  "kernelspec": {
   "display_name": "sculp-api",
   "language": "python",
   "name": "python3"
  },
  "language_info": {
   "codemirror_mode": {
    "name": "ipython",
    "version": 3
   },
   "file_extension": ".py",
   "mimetype": "text/x-python",
   "name": "python",
   "nbconvert_exporter": "python",
   "pygments_lexer": "ipython3",
   "version": "3.8.10"
  },
  "orig_nbformat": 4,
  "vscode": {
   "interpreter": {
    "hash": "78f3311c944f6eb9ddf69655cf8d5aea982a3d89e0c8c080a2091564b17204c1"
   }
  }
 },
 "nbformat": 4,
 "nbformat_minor": 2
}
