{
 "cells": [
  {
   "cell_type": "code",
   "execution_count": 5,
   "metadata": {},
   "outputs": [],
   "source": [
    "from __future__ import unicode_literals\n",
    "from gtts import gTTS\n",
    "import streamlit as st\n",
    "import speech_recognition as sr\n",
    "import yt_dlp\n",
    "import ffmpeg\n",
    "import sys\n",
    "from transformers import AutoTokenizer, AutoModelForSeq2SeqLM\n",
    "from transformers import pipeline\n",
    "import whisper\n"
   ]
  },
  {
   "cell_type": "code",
   "execution_count": 6,
   "metadata": {},
   "outputs": [
    {
     "name": "stderr",
     "output_type": "stream",
     "text": [
      "/home/om/Documents/Youtube-Video-Summary/sum-env/lib/python3.8/site-packages/whisper/transcribe.py:114: UserWarning: FP16 is not supported on CPU; using FP32 instead\n",
      "  warnings.warn(\"FP16 is not supported on CPU; using FP32 instead\")\n"
     ]
    },
    {
     "name": "stdout",
     "output_type": "stream",
     "text": [
      " This function have two problems and one of them is there is way too much nested condition One inside the other which made the code way too hard to read for absolutely no reason So inside this video, I will show you what are the two problems We will fix them and at the end you will have a much cleaner and simpler code to understand So let's start right now first we have a developer which have three things inside We have the available full stack and Google everything So this is the perfect developer. So what happened if we start the application and we log the message coming from the function is the perfect dev We will receive a log. So let's start right now You will see that right now we have a perfect dev but if I change the Google everything for false You will see inside the terminal that now we have the dev can't go go stuff Okay, so it work now what we'll do is we will make this function even simpler to understand for a developer So we will say is the perfect dev function to and we'll create this one So I will copy all of the first function And I will paste it right over and I will call this one the is the perfect dev to and now we will fix everything So how do we do this? How do we un-ness everything inside the if condition? So what you have to do is you will use the guard closes technique and for this is super simple All you have to do is take everything that is inside the first if You will cut everything and you paste it right at the end You will do the same thing for the other if you will take everything inside this one You will cut and you will paste it at the end and you do the same thing for the last if You cut everything inside and you paste it at the end after this what you need to do is you take all the message and Instead of using the else condition you put it inside the if and then you reverse the condition So use the exclamation point to reverse the condition But this is still a little bit hard to understand visually So what we'll do is we will say if the developer that available is equal to false and in this case It will go inside and set the message to the dev is not available Okay, we can now remove the else condition. We don't need it anymore We will do the same thing for the other message. We cut what is inside the else We paste it inside the if and we set the condition to is equal to false and now we can remove the else We do the same thing for the last one. We cut the message We paste it inside the if and we set this is equal to false We can now remove the else and now if I test the application you will see that If we have the message is equal to the is the perfect dev 2 we have now the dev can't go go stuff because we have false But if I put true you will see that now we have the developer is perfect Because the function does just the same thing But the other problem is there is way too much return inside this function Usually you should have only one return and it should be at the end So what you can do is you can remove all the returns Inside the function and just keep the last one because anyway, we still store the message value Inside and we can return it anyway, so this is the same function But much cleaner and simpler to understand you can see this was the old function and this is the new one So thank you for watching subscribe and I see you in the next one. Bye\n"
     ]
    }
   ],
   "source": [
    "model = whisper.load_model(\"base\")\n",
    "result = model.transcribe(\"output.wav\")\n",
    "print(result[\"text\"])\n"
   ]
  },
  {
   "cell_type": "code",
   "execution_count": 7,
   "metadata": {},
   "outputs": [],
   "source": [
    "video_url = input(\"Enter the video link: \")\n",
    "file_name = \"output\""
   ]
  },
  {
   "cell_type": "code",
   "execution_count": 8,
   "metadata": {},
   "outputs": [],
   "source": [
    "def download_from_url(url: str, output_file: str):\n",
    "    ydl_opts = {\n",
    "        'format': 'bestaudio/best',\n",
    "        'outtmpl': output_file,\n",
    "        'postprocessors': [{\n",
    "            'key': 'FFmpegExtractAudio',\n",
    "            'preferredcodec': 'wav',\n",
    "        }],\n",
    "    }\n",
    "\n",
    "    with yt_dlp.YoutubeDL(ydl_opts) as ydl:\n",
    "        ydl.download([url])\n",
    "        stream = ffmpeg.input(output_file)\n",
    "        stream = ffmpeg.output(stream, output_file.replace('.m4a', '.wav'))"
   ]
  },
  {
   "cell_type": "code",
   "execution_count": 9,
   "metadata": {},
   "outputs": [
    {
     "name": "stdout",
     "output_type": "stream",
     "text": [
      "[youtube] Extracting URL: https://www.youtube.com/watch?v=_TJ7u-Zvebw\n",
      "[youtube] _TJ7u-Zvebw: Downloading webpage\n",
      "[youtube] _TJ7u-Zvebw: Downloading android player API JSON\n",
      "[info] _TJ7u-Zvebw: Downloading 1 format(s): 251\n",
      "[dashsegments] Total fragments: 1\n",
      "[download] Destination: output\n",
      "[download] 100% of    2.96MiB in 00:00:00 at 4.84MiB/s               \n",
      "[ExtractAudio] Destination: output.wav\n",
      "Deleting original file output (pass -k to keep)\n"
     ]
    }
   ],
   "source": [
    "download_from_url(video_url, file_name)\n"
   ]
  },
  {
   "cell_type": "code",
   "execution_count": 10,
   "metadata": {},
   "outputs": [],
   "source": [
    "r = sr.Recognizer()"
   ]
  },
  {
   "cell_type": "code",
   "execution_count": 11,
   "metadata": {},
   "outputs": [],
   "source": [
    "video = sr.AudioFile(file_name + \".wav\")"
   ]
  },
  {
   "cell_type": "code",
   "execution_count": 12,
   "metadata": {},
   "outputs": [],
   "source": [
    "with video as source:\n",
    "    audio = r.record(source)"
   ]
  },
  {
   "cell_type": "code",
   "execution_count": 13,
   "metadata": {},
   "outputs": [],
   "source": [
    "result = r.recognize_whisper(audio)"
   ]
  },
  {
   "cell_type": "code",
   "execution_count": 14,
   "metadata": {},
   "outputs": [],
   "source": [
    "with open('transcript.txt', 'w') as f:\n",
    "    f.write(result)"
   ]
  },
  {
   "cell_type": "code",
   "execution_count": 15,
   "metadata": {},
   "outputs": [],
   "source": [
    "with open('transcript.txt', 'r') as f:\n",
    "    text = f.read()"
   ]
  },
  {
   "cell_type": "code",
   "execution_count": 17,
   "metadata": {},
   "outputs": [],
   "source": [
    "tokenizer = AutoTokenizer.from_pretrained(\"philschmid/bart-large-cnn-samsum\",model_max_length=1024)\n",
    "\n",
    "model = AutoModelForSeq2SeqLM.from_pretrained(\n",
    "    \"philschmid/bart-large-cnn-samsum\")\n"
   ]
  },
  {
   "cell_type": "code",
   "execution_count": 18,
   "metadata": {},
   "outputs": [
    {
     "name": "stderr",
     "output_type": "stream",
     "text": [
      "Your max_length is set to 150, but you input_length is only 61. You might consider decreasing max_length manually, e.g. summarizer('...', max_length=30)\n"
     ]
    },
    {
     "name": "stdout",
     "output_type": "stream",
     "text": [
      "['There is too much nested condition inside the function and the code is too hard to read for no reason. In this video, I will show you what are the two problems and how we will fix them.', 'The guard closes technique is a way to un-ness everything inside the if condition. The developer that is available is equal to false, so we will say if the developer is available.', 'There is way too much return inside a function. You can remove all the returns inside the function and just keep the last one.', 'The new subscribe function is cleaner and simpler to understand than the old one. It stores the message value inside and can return it anyway.']\n"
     ]
    }
   ],
   "source": [
    "summarizer = pipeline(\n",
    "    \"summarization\", model=model, tokenizer=tokenizer, framework=\"pt\")\n",
    "\n",
    "\n",
    "# break the text into chunks of 1024 characters\n",
    "chunks = [text[i:i+1024] for i in range(0, len(text), 1024)]\n",
    "\n",
    "# summarize the chunks\n",
    "summary = []\n",
    "for chunk in chunks:\n",
    "    summary.append(summarizer(chunk, max_length=150, min_length=30, do_sample=False)[0]['summary_text'])\n",
    "\n",
    "print(summary)\n",
    "\n",
    "# join the chunks\n",
    "summary = ''.join(summary)\n",
    "\n",
    "# save the summary to a text file\n",
    "with open('summary.txt', 'w') as f:\n",
    "    f.write(summary)"
   ]
  },
  {
   "cell_type": "code",
   "execution_count": 19,
   "metadata": {},
   "outputs": [],
   "source": [
    "# convert the summary to audio and save it\n",
    "from gtts import gTTS\n",
    "\n",
    "tts = gTTS(summary)\n",
    "\n",
    "tts.save(\"summary.mp3\")"
   ]
  },
  {
   "attachments": {},
   "cell_type": "markdown",
   "metadata": {},
   "source": [
    "Next Step : https://colab.research.google.com/drive/1wVVqUPqwiDBUVeWWOUNglpGhU3hg_cbR?usp=sharing#scrollTo=JrK20I32grP6"
   ]
  }
 ],
 "metadata": {
  "kernelspec": {
   "display_name": "sculp-api",
   "language": "python",
   "name": "python3"
  },
  "language_info": {
   "codemirror_mode": {
    "name": "ipython",
    "version": 3
   },
   "file_extension": ".py",
   "mimetype": "text/x-python",
   "name": "python",
   "nbconvert_exporter": "python",
   "pygments_lexer": "ipython3",
   "version": "3.8.10"
  },
  "orig_nbformat": 4,
  "vscode": {
   "interpreter": {
    "hash": "78f3311c944f6eb9ddf69655cf8d5aea982a3d89e0c8c080a2091564b17204c1"
   }
  }
 },
 "nbformat": 4,
 "nbformat_minor": 2
}
